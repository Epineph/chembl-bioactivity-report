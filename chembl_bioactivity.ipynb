{
 "cells": [
  {
   "cell_type": "markdown",
   "id": "3ef1cceb",
   "metadata": {
    "lines_to_next_cell": 0
   },
   "source": [
    "# %% [markdown]\n",
    "# notebook to fetch pharmacodynamic bioactivity of compounds\n",
    "Neat ChEMBL Bioactivity Report\n",
    "- **Fetch pharmacodynamic bioactivity**\n",
    "- Pulls all human bioactivities (*IC50*, *Ki*, *KA*, etc.) for a given compound.\n",
    "- Looks up each target’s *preferred name*.\n",
    "- **Builds a DataFrame and prints it as a pretty GitHub‑style Markdown table**\n",
    "  when run in a terminal, or as an HTML table in Jupyter.\n",
    "- When run from terminal, if using linux, make sure the script is executable by:\n",
    "sudo chmod +x chembl_bioactivity.py\n",
    "anr run from terminal:\n",
    "- python chembl_bioactivity.py <compound>\n",
    "---\n",
    "\n",
    "# %% [markdown]\n",
    "## 2) Install the required libraries\n",
    "The notebook **requires the following libraries:**\n",
    "- chembl-webresource-client\n",
    "- pandas\n",
    "- tabulate\n",
    "\n",
    "Install with pip, e.g.,:\n",
    "\n",
    "python -m pip install chembl-webresource-client pandas tabulate\n",
    "\n",
    "Or use your favorite packpage manager, e.g.,:\n",
    "\n",
    "conda install -c conda-forge chembl-webresource-client pandas tabulate\n",
    "\n",
    "or run clone the repository and run:\n",
    "\n",
    "python -m pip install -r requirements.txt\n",
    "\n",
    "# %% [markdown]\n",
    "## 3) Imports & Setup"
   ]
  },
  {
   "cell_type": "code",
   "execution_count": null,
   "id": "95899738",
   "metadata": {
    "lines_to_next_cell": 0
   },
   "outputs": [],
   "source": [
    "import sys\n",
    "import pandas as pd\n",
    "from chembl_webresource_client.new_client import new_client\n",
    "from tabulate import tabulate"
   ]
  },
  {
   "cell_type": "markdown",
   "id": "ac8b6641",
   "metadata": {},
   "source": [
    "---\n",
    "\n",
    "# %% [markdown]\n",
    "## 4) Pass compount name to function\n",
    "\n",
    "Pass a string to to the function get_chembl_id, e.g.,\n",
    "\n",
    "def get_chembl_id(compound: Literal['scopolamine']) -> str:"
   ]
  },
  {
   "cell_type": "code",
   "execution_count": null,
   "id": "f8a9e884",
   "metadata": {},
   "outputs": [],
   "source": [
    "from typing import Literal\n",
    "\n",
    "def get_chembl_id(compound: Literal['aspirin']) -> str:\n",
    "    \"\"\"Lookup compound by preferred name in ChEMBL.\"\"\"\n",
    "    mol_client = new_client.molecule\n",
    "    # Use the passed-in compound string, not a hard-coded value\n",
    "    res = mol_client.filter(pref_name__iexact=compound)\n",
    "    if not res:\n",
    "        raise ValueError(f\"No ChEMBL entry for '{compound}'\")\n",
    "    return res[0]['molecule_chembl_id']"
   ]
  },
  {
   "cell_type": "markdown",
   "id": "0ced7a94",
   "metadata": {},
   "source": [
    "---"
   ]
  },
  {
   "cell_type": "code",
   "execution_count": null,
   "id": "4759c2d5",
   "metadata": {},
   "outputs": [],
   "source": [
    "def fetch_activities(chembl_id: str) -> list[dict]:\n",
    "    \"\"\"Fetch all Homo sapiens bioactivities for the given ChEMBL ID.\"\"\"\n",
    "    act_client = new_client.activity\n",
    "    acts = act_client.filter(\n",
    "        molecule_chembl_id=chembl_id,\n",
    "        target_organism__iexact='Homo sapiens'\n",
    "    ).only([\n",
    "        'target_chembl_id',\n",
    "        'standard_type',\n",
    "        'standard_value',\n",
    "        'standard_units'\n",
    "    ])\n",
    "    return list(acts)"
   ]
  },
  {
   "cell_type": "markdown",
   "id": "f78dc282",
   "metadata": {},
   "source": [
    "---"
   ]
  },
  {
   "cell_type": "code",
   "execution_count": null,
   "id": "7f88b5ea",
   "metadata": {},
   "outputs": [],
   "source": [
    "def fetch_target_names(target_ids: set[str]) -> dict[str, str]:\n",
    "    \"\"\"Map each ChEMBL target ID to its preferred name.\"\"\"\n",
    "    tgt_client = new_client.target\n",
    "    names = {}\n",
    "    for tid in target_ids:\n",
    "        rec = tgt_client.filter(target_chembl_id=tid).only(['pref_name'])\n",
    "        names[tid] = rec[0]['pref_name'] if rec else tid\n",
    "    return names"
   ]
  },
  {
   "cell_type": "markdown",
   "id": "e6cfe618",
   "metadata": {},
   "source": [
    "---"
   ]
  },
  {
   "cell_type": "code",
   "execution_count": null,
   "id": "aea08736",
   "metadata": {},
   "outputs": [],
   "source": [
    "def build_activity_df(acts: list[dict]) -> pd.DataFrame:\n",
    "    \"\"\"Build a tidy DataFrame and compute Kd (nM) for KA entries.\"\"\"\n",
    "    rows = []\n",
    "    for a in acts:\n",
    "        tid   = a.get('target_chembl_id') or 'Unknown'\n",
    "        typ   = a.get('standard_type')    or ''\n",
    "        val   = a.get('standard_value')   or ''\n",
    "        unit  = a.get('standard_units')   or ''\n",
    "        kd_nm = ''\n",
    "        # Compute Kd in nanomolar for association constants\n",
    "        if typ.upper() == 'KA' and val and unit.strip() in ['M^-1','M-1','1/M']:\n",
    "            try:\n",
    "                kd_m  = 1.0 / float(val)\n",
    "                kd_nm = round(kd_m * 1e9, 2)\n",
    "            except Exception:\n",
    "                kd_nm = ''\n",
    "        rows.append({\n",
    "            'Target (ChEMBL)': tid,\n",
    "            'Activity':        typ,\n",
    "            'Value':           val,\n",
    "            'Units':           unit,\n",
    "            'Kd (nM)':         kd_nm\n",
    "        })\n",
    "    df = pd.DataFrame(rows)\n",
    "    # Replace ChEMBL IDs with human-readable names\n",
    "    unique_tids = set(df['Target (ChEMBL)'])\n",
    "    name_map = fetch_target_names(unique_tids)\n",
    "    df['Target (ChEMBL)'] = df['Target (ChEMBL)'].map(name_map)\n",
    "    # Keep only non-empty bioactivity entries\n",
    "    df = df[['Target (ChEMBL)', 'Activity', 'Value', 'Units', 'Kd (nM)']]\n",
    "    df.dropna(how='all', subset=['Value'], inplace=True)\n",
    "    df.reset_index(drop=True, inplace=True)\n",
    "    return df"
   ]
  },
  {
   "cell_type": "markdown",
   "id": "519c84bd",
   "metadata": {},
   "source": [
    "---"
   ]
  },
  {
   "cell_type": "code",
   "execution_count": null,
   "id": "a33732ff",
   "metadata": {},
   "outputs": [],
   "source": [
    "def display_df(df: pd.DataFrame):\n",
    "    \"\"\"Display as HTML table in Jupyter, or Markdown table on CLI.\"\"\"\n",
    "    try:\n",
    "        from IPython.display import display\n",
    "        styler = df.style\n",
    "        # Use hide_index if available, otherwise fallback to hide\n",
    "        if hasattr(styler, 'hide_index'):\n",
    "            styler = styler.hide_index()\n",
    "        else:\n",
    "            styler = styler.hide(axis=\"index\")\n",
    "        display(styler)\n",
    "    except ImportError:\n",
    "        print(tabulate(df, headers='keys', tablefmt='github', showindex=False))"
   ]
  },
  {
   "cell_type": "markdown",
   "id": "2661fb8b",
   "metadata": {},
   "source": [
    "---"
   ]
  },
  {
   "cell_type": "code",
   "execution_count": null,
   "id": "49208234",
   "metadata": {},
   "outputs": [],
   "source": [
    "def display_df(df: pd.DataFrame):\n",
    "    \"\"\"Display as HTML table in Jupyter, or Markdown table on CLI.\"\"\"\n",
    "    try:\n",
    "        from IPython.display import display\n",
    "        styler = df.style\n",
    "        # Use hide_index if available, otherwise fallback to hide\n",
    "        if hasattr(styler, 'hide_index'):\n",
    "            styler = styler.hide_index()\n",
    "        else:\n",
    "            styler = styler.hide(axis=\"index\")\n",
    "        display(styler)\n",
    "    except ImportError:\n",
    "        print(tabulate(df, headers='keys', tablefmt='github', showindex=False))"
   ]
  },
  {
   "cell_type": "markdown",
   "id": "5f1e76a1",
   "metadata": {},
   "source": [
    "---"
   ]
  },
  {
   "cell_type": "code",
   "execution_count": null,
   "id": "68a3b708",
   "metadata": {},
   "outputs": [],
   "source": [
    "def main():\n",
    "    \"\"\"Main entry point: lookup, fetch, build, and display.\"\"\"\n",
    "    compound = sys.argv[1] if len(sys.argv) > 1 else 'scopolamine'\n",
    "    print(f\"\\n🔍 Looking up '{compound}' in ChEMBL…\")\n",
    "    chembl_id = get_chembl_id(compound)\n",
    "    print(f\"   → Found ChEMBL ID: {chembl_id}\\n\")\n",
    "\n",
    "    print(\"📋 Fetching human bioactivities…\")\n",
    "    acts = fetch_activities(chembl_id)\n",
    "    df   = build_activity_df(acts)\n",
    "    print(f\"\\n🏷  Retrieved {len(df)} records:\\n\")\n",
    "    display_df(df)\n",
    "\n",
    "if __name__ == '__main__':  # pragma: no cover\n",
    "    main()"
   ]
  },
  {
   "cell_type": "markdown",
   "id": "0259f251",
   "metadata": {},
   "source": [
    "---\n",
    "\n",
    "\n"
   ]
  }
 ],
 "metadata": {
  "jupytext": {
   "cell_metadata_filter": "-all",
   "main_language": "python",
   "notebook_metadata_filter": "-all"
  }
 },
 "nbformat": 4,
 "nbformat_minor": 5
}
