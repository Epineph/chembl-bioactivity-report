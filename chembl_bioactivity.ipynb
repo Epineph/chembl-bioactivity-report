{
 "cells": [
  {
   "cell_type": "markdown",
   "metadata": {},
   "source": [
    "# ChEMBL Bioactivity Dashboard\n",
    "This interactive notebook lets you search for compounds in ChEMBL, fetch human bioactivity data, filter activity types, and export results.\n\n",
    "Data source: [ChEMBL](https://www.ebi.ac.uk/chembl/) — European Bioinformatics Institute."
   ]
  },
  {
   "cell_type": "code",
   "execution_count": null,
   "metadata": {},
   "outputs": [],
   "source": [
    "!pip install chembl-webresource-client pandas tabulate ipywidgets itables"
   ]
  },
  {
   "cell_type": "code",
   "execution_count": null,
   "metadata": {},
   "outputs": [],
   "source": [
    "import pandas as pd\n",
    "from chembl_webresource_client.new_client import new_client\n",
    "from IPython.display import display, clear_output, Markdown\n",
    "import ipywidgets as widgets\n",
    "from itables import init_notebook_mode, show\n",
    "init_notebook_mode(all_interactive=True)"
   ]
  },
  {
   "cell_type": "code",
   "execution_count": null,
   "metadata": {},
   "outputs": [],
   "source": [
    "def get_chembl_id(compound: str) -> str:\n",
    "    mol_client = new_client.molecule\n",
    "    res = mol_client.filter(pref_name__iexact=compound)\n",
    "    if not res:\n",
    "        raise ValueError(f\"No ChEMBL entry for '{compound}'\")\n",
    "    return res[0]['molecule_chembl_id']\n\n",
    "def fetch_activities(chembl_id: str) -> list[dict]:\n",
    "    act_client = new_client.activity\n",
    "    acts = act_client.filter(\n",
    "        molecule_chembl_id=chembl_id,\n",
    "        target_organism__iexact='Homo sapiens'\n",
    "    ).only([\"target_chembl_id\", \"standard_type\", \"standard_value\", \"standard_units\"])\n",
    "    return list(acts)\n\n",
    "def fetch_target_names(target_ids: set[str]) -> dict[str, str]:\n",
    "    tgt_client = new_client.target\n",
    "    names = {}\n",
    "    for tid in target_ids:\n",
    "        rec = tgt_client.filter(target_chembl_id=tid).only(['pref_name'])\n",
    "        names[tid] = rec[0]['pref_name'] if rec else tid\n",
    "    return names\n\n",
    "def build_activity_df(acts: list[dict]) -> pd.DataFrame:\n",
    "    rows = []\n",
    "    for a in acts:\n",
    "        tid = a.get('target_chembl_id') or 'Unknown'\n",
    "        typ = a.get('standard_type') or ''\n",
    "        val = a.get('standard_value') or ''\n",
    "        unit = a.get('standard_units') or ''\n",
    "        kd_nm = ''\n",
    "        if typ.upper() == 'KA' and val and unit.strip() in ['M^-1', 'M-1', '1/M']:\n",
    "            try:\n",
    "                kd_m = 1.0 / float(val)\n",
    "                kd_nm = round(kd_m * 1e9, 2)\n",
    "            except Exception:\n",
    "                kd_nm = ''\n",
    "        rows.append({\n",
    "            'Target': tid,\n",
    "            'Activity': typ,\n",
    "            'Value': val,\n",
    "            'Units': unit,\n",
    "            'Kd (nM)': kd_nm\n",
    "        })\n",
    "    df = pd.DataFrame(rows)\n",
    "    unique_tids = set(df['Target'])\n",
    "    name_map = fetch_target_names(unique_tids)\n",
    "    df['Target'] = df['Target'].map(name_map)\n",
    "    df.dropna(how='all', subset=['Value'], inplace=True)\n",
    "    df.reset_index(drop=True, inplace=True)\n",
    "    return df"
   ]
  },
  {
   "cell_type": "code",
   "execution_count": null,
   "metadata": {},
   "outputs": [],
   "source": [
    "def interactive_mode():\n",
    "    text = widgets.Text(\n",
    "        value='scopolamine',\n",
    "        description='Compound:',\n",
    "        style={'description_width': 'initial'},\n",
    "        layout=widgets.Layout(width='400px')\n",
    "    )\n",
    "    button = widgets.Button(description=\"Search\")\n",
    "    filter_box = widgets.SelectMultiple(\n",
    "        options=['IC50', 'Ki', 'KA', 'Kd'],\n",
    "        value=['IC50', 'Ki'],\n",
    "        description='Activity filter',\n",
    "        layout=widgets.Layout(width='200px')\n",
    "    )\n",
    "    export_button = widgets.Button(description=\"Export CSV\")\n",
    "    output = widgets.Output()\n\n",
    "    def on_click(b):\n",
    "        with output:\n",
    "            clear_output()\n",
    "            try:\n",
    "                compound = text.value\n",
    "                chembl_id = get_chembl_id(compound)\n",
    "                acts = fetch_activities(chembl_id)\n",
    "                df = build_activity_df(acts)\n",
    "                selected = list(filter_box.value)\n",
    "                if selected:\n",
    "                    df = df[df['Activity'].isin(selected)]\n",
    "                display(Markdown(f\"\"\"\n",
    "                ### Results for **{compound}**  \\\n    "                Data retrieved from [ChEMBL](https://www.ebi.ac.uk/chembl/).  \\\n    "                Values aggregated per target/activity.\n",
    "                \"\"\"))\n",
    "                show(df, classes=\"display compact cell-border\", maxBytes=0)\n",
    "                export_button.df = df\n",
    "            except Exception as e:\n",
    "                print(f\"❌ Error: {e}\")\n\n",
    "    def on_export(b):\n",
    "        if hasattr(b, 'df'):\n",
    "            b.df.to_csv('results.csv', index=False)\n",
    "            print(\"✅ Exported to results.csv\")\n\n",
    "    button.on_click(on_click)\n",
    "    export_button.on_click(on_export)\n",
    "    display(widgets.VBox([text, button, filter_box, export_button, output]))\n\n",
    "interactive_mode()"
   ]
  }
 ],
 "metadata": {
  "kernelspec": {
   "display_name": "Python 3",
   "language": "python",
   "name": "python3"
  },
  "language_info": {
   "name": "python",
   "version": "3.10"
  }
 },
 "nbformat": 4,
 "nbformat_minor": 2
}
