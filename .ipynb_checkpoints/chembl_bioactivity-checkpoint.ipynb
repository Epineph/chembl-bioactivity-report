{
 "cells": [
  {
   "cell_type": "markdown",
   "id": "3ef1cceb",
   "metadata": {
    "lines_to_next_cell": 0
   },
   "source": [
    "# notebook to fetch pharmacodynamic bioactivity of compounds\n",
    "Neat ChEMBL Bioactivity Report\n",
    "- **Fetch pharmacodynamic bioactivity**\n",
    "- Pulls all human bioactivities (*IC50*, *Ki*, *KA*, etc.) for a given compound.\n",
    "- Looks up each target’s *preferred name*.\n",
    "- **Builds a DataFrame and prints it as a pretty GitHub‑style Markdown table**\n",
    "  when run in a terminal, or as an HTML table in Jupyter.\n",
    "- When run from terminal, if using linux, make sure the script is executable by:\n",
    "sudo chmod +x chembl_bioactivity.py\n",
    "anr run from terminal:\n",
    "- python chembl_bioactivity.py <compound>\n",
    "---\n",
    "\n",
    "# [markdown]\n",
    "## 2) Install the required libraries\n",
    "The notebook **requires the following libraries:**\n",
    "- chembl-webresource-client\n",
    "- pandas\n",
    "- tabulate\n",
    "- voila\n",
    "- ipywidgets\n",
    "- itables\n",
    "- openpyxl\n",
    "\n",
    "For example, run in terminal:\n",
    "\n",
    "*python -m pip install chembl-webresource-client pandas tabulate voila ipywidgets itables openpyxl*\n",
    "\n",
    "# [markdown]\n",
    "## 3) Imports & Setup"
   ]
  },
  {
   "cell_type": "code",
   "execution_count": 6,
   "id": "95899738",
   "metadata": {
    "execution": {
     "iopub.execute_input": "2025-08-17T11:54:48.659695Z",
     "iopub.status.busy": "2025-08-17T11:54:48.659351Z",
     "iopub.status.idle": "2025-08-17T11:54:48.690520Z",
     "shell.execute_reply": "2025-08-17T11:54:48.689652Z",
     "shell.execute_reply.started": "2025-08-17T11:54:48.659663Z"
    },
    "lines_to_next_cell": 0,
    "tags": []
   },
   "outputs": [
    {
     "ename": "ModuleNotFoundError",
     "evalue": "No module named 'itables'",
     "output_type": "error",
     "traceback": [
      "\u001b[31m---------------------------------------------------------------------------\u001b[39m",
      "\u001b[31mModuleNotFoundError\u001b[39m                       Traceback (most recent call last)",
      "\u001b[36mCell\u001b[39m\u001b[36m \u001b[39m\u001b[32mIn[6]\u001b[39m\u001b[32m, line 5\u001b[39m\n\u001b[32m      3\u001b[39m \u001b[38;5;28;01mfrom\u001b[39;00m\u001b[38;5;250m \u001b[39m\u001b[34;01mIPython\u001b[39;00m\u001b[34;01m.\u001b[39;00m\u001b[34;01mdisplay\u001b[39;00m\u001b[38;5;250m \u001b[39m\u001b[38;5;28;01mimport\u001b[39;00m display, clear_output, Markdown\n\u001b[32m      4\u001b[39m \u001b[38;5;28;01mimport\u001b[39;00m\u001b[38;5;250m \u001b[39m\u001b[34;01mipywidgets\u001b[39;00m\u001b[38;5;250m \u001b[39m\u001b[38;5;28;01mas\u001b[39;00m\u001b[38;5;250m \u001b[39m\u001b[34;01mwidgets\u001b[39;00m\n\u001b[32m----> \u001b[39m\u001b[32m5\u001b[39m \u001b[38;5;28;01mfrom\u001b[39;00m\u001b[38;5;250m \u001b[39m\u001b[34;01mitables\u001b[39;00m\u001b[38;5;250m \u001b[39m\u001b[38;5;28;01mimport\u001b[39;00m init_notebook_mode, show\n\u001b[32m      6\u001b[39m \u001b[38;5;28;01mfrom\u001b[39;00m\u001b[38;5;250m \u001b[39m\u001b[34;01mIPython\u001b[39;00m\u001b[34;01m.\u001b[39;00m\u001b[34;01mdisplay\u001b[39;00m\u001b[38;5;250m \u001b[39m\u001b[38;5;28;01mimport\u001b[39;00m FileLink\n\u001b[32m      8\u001b[39m init_notebook_mode(all_interactive=\u001b[38;5;28;01mTrue\u001b[39;00m)\n",
      "\u001b[31mModuleNotFoundError\u001b[39m: No module named 'itables'"
     ]
    }
   ],
   "source": [
    "import pandas as pd\n",
    "from chembl_webresource_client.new_client import new_client\n",
    "from IPython.display import display, clear_output, Markdown\n",
    "import ipywidgets as widgets\n",
    "from itables import init_notebook_mode, show\n",
    "from IPython.display import FileLink\n",
    "\n",
    "init_notebook_mode(all_interactive=True)"
   ]
  },
  {
   "cell_type": "code",
   "execution_count": 7,
   "id": "f8a9e884",
   "metadata": {
    "execution": {
     "iopub.execute_input": "2025-08-17T11:54:49.994861Z",
     "iopub.status.busy": "2025-08-17T11:54:49.994486Z",
     "iopub.status.idle": "2025-08-17T11:54:50.004896Z",
     "shell.execute_reply": "2025-08-17T11:54:50.004060Z",
     "shell.execute_reply.started": "2025-08-17T11:54:49.994828Z"
    },
    "tags": []
   },
   "outputs": [],
   "source": [
    "# --- Core helper functions ---\n",
    "def get_chembl_id(compound: str) -> str:\n",
    "    mol_client = new_client.molecule\n",
    "    res = mol_client.filter(pref_name__iexact=compound)\n",
    "    if not res:\n",
    "        raise ValueError(f\"No ChEMBL entry for '{compound}'\")\n",
    "    return res[0]['molecule_chembl_id']\n",
    "\n",
    "def fetch_activities(chembl_id: str) -> list[dict]:\n",
    "    act_client = new_client.activity\n",
    "    acts = act_client.filter(\n",
    "        molecule_chembl_id=chembl_id,\n",
    "        target_organism__iexact='Homo sapiens'\n",
    "    ).only([\"target_chembl_id\", \"standard_type\", \"standard_value\", \"standard_units\"])\n",
    "    return list(acts)\n",
    "\n",
    "def fetch_target_names(target_ids: set[str]) -> dict[str, str]:\n",
    "    tgt_client = new_client.target\n",
    "    names = {}\n",
    "    for tid in target_ids:\n",
    "        rec = tgt_client.filter(target_chembl_id=tid).only(['pref_name'])\n",
    "        names[tid] = rec[0]['pref_name'] if rec else tid\n",
    "    return names\n",
    "\n",
    "def build_activity_df(acts: list[dict]) -> pd.DataFrame:\n",
    "    rows = []\n",
    "    for a in acts:\n",
    "        tid = a.get('target_chembl_id') or 'Unknown'\n",
    "        typ = a.get('standard_type') or ''\n",
    "        val = a.get('standard_value') or ''\n",
    "        unit = a.get('standard_units') or ''\n",
    "        kd_nm = ''\n",
    "        if typ.upper() == 'KA' and val and unit.strip() in ['M^-1', 'M-1', '1/M']:\n",
    "            try:\n",
    "                kd_m = 1.0 / float(val)\n",
    "                kd_nm = round(kd_m * 1e9, 2)\n",
    "            except Exception:\n",
    "                kd_nm = ''\n",
    "        rows.append({\n",
    "            'Target': tid,\n",
    "            'Activity': typ,\n",
    "            'Value': val,\n",
    "            'Units': unit,\n",
    "            'Kd (nM)': kd_nm\n",
    "        })\n",
    "    df = pd.DataFrame(rows)\n",
    "    unique_tids = set(df['Target'])\n",
    "    name_map = fetch_target_names(unique_tids)\n",
    "    df['Target'] = df['Target'].map(name_map)\n",
    "    df.dropna(how='all', subset=['Value'], inplace=True)\n",
    "    df.reset_index(drop=True, inplace=True)\n",
    "    return df"
   ]
  },
  {
   "cell_type": "markdown",
   "id": "ac8b6641",
   "metadata": {},
   "source": [
    "---\n",
    "\n",
    "# %% [markdown]\n",
    "## 4) Pass compount name to function\n",
    "\n",
    "Pass a string to to the function get_chembl_id, e.g.,\n",
    "\n",
    "def get_chembl_id(compound: Literal['scopolamine']) -> str:"
   ]
  },
  {
   "cell_type": "markdown",
   "id": "0ced7a94",
   "metadata": {},
   "source": [
    "---"
   ]
  },
  {
   "cell_type": "code",
   "execution_count": 2,
   "id": "4759c2d5",
   "metadata": {
    "execution": {
     "iopub.execute_input": "2025-08-17T11:54:34.288246Z",
     "iopub.status.busy": "2025-08-17T11:54:34.287896Z",
     "iopub.status.idle": "2025-08-17T11:54:34.292321Z",
     "shell.execute_reply": "2025-08-17T11:54:34.291621Z",
     "shell.execute_reply.started": "2025-08-17T11:54:34.288214Z"
    },
    "tags": []
   },
   "outputs": [],
   "source": [
    "def fetch_activities(chembl_id: str) -> list[dict]:\n",
    "    \"\"\"Fetch all Homo sapiens bioactivities for the given ChEMBL ID.\"\"\"\n",
    "    act_client = new_client.activity\n",
    "    acts = act_client.filter(\n",
    "        molecule_chembl_id=chembl_id,\n",
    "        target_organism__iexact='Homo sapiens'\n",
    "    ).only([\n",
    "        'target_chembl_id',\n",
    "        'standard_type',\n",
    "        'standard_value',\n",
    "        'standard_units'\n",
    "    ])\n",
    "    return list(acts)"
   ]
  },
  {
   "cell_type": "markdown",
   "id": "f78dc282",
   "metadata": {},
   "source": [
    "---"
   ]
  },
  {
   "cell_type": "code",
   "execution_count": 3,
   "id": "7f88b5ea",
   "metadata": {
    "execution": {
     "iopub.execute_input": "2025-08-17T11:54:35.073503Z",
     "iopub.status.busy": "2025-08-17T11:54:35.073187Z",
     "iopub.status.idle": "2025-08-17T11:54:35.077904Z",
     "shell.execute_reply": "2025-08-17T11:54:35.076974Z",
     "shell.execute_reply.started": "2025-08-17T11:54:35.073477Z"
    },
    "tags": []
   },
   "outputs": [],
   "source": [
    "def fetch_target_names(target_ids: set[str]) -> dict[str, str]:\n",
    "    \"\"\"Map each ChEMBL target ID to its preferred name.\"\"\"\n",
    "    tgt_client = new_client.target\n",
    "    names = {}\n",
    "    for tid in target_ids:\n",
    "        rec = tgt_client.filter(target_chembl_id=tid).only(['pref_name'])\n",
    "        names[tid] = rec[0]['pref_name'] if rec else tid\n",
    "    return names"
   ]
  },
  {
   "cell_type": "markdown",
   "id": "e6cfe618",
   "metadata": {},
   "source": [
    "---"
   ]
  },
  {
   "cell_type": "code",
   "execution_count": 4,
   "id": "aea08736",
   "metadata": {
    "execution": {
     "iopub.execute_input": "2025-08-17T11:54:35.993712Z",
     "iopub.status.busy": "2025-08-17T11:54:35.993386Z",
     "iopub.status.idle": "2025-08-17T11:54:36.000940Z",
     "shell.execute_reply": "2025-08-17T11:54:35.999596Z",
     "shell.execute_reply.started": "2025-08-17T11:54:35.993684Z"
    },
    "tags": []
   },
   "outputs": [],
   "source": [
    "def build_activity_df(acts: list[dict]) -> pd.DataFrame:\n",
    "    \"\"\"Build a tidy DataFrame and compute Kd (nM) for KA entries.\"\"\"\n",
    "    rows = []\n",
    "    for a in acts:\n",
    "        tid   = a.get('target_chembl_id') or 'Unknown'\n",
    "        typ   = a.get('standard_type')    or ''\n",
    "        val   = a.get('standard_value')   or ''\n",
    "        unit  = a.get('standard_units')   or ''\n",
    "        kd_nm = ''\n",
    "        # Compute Kd in nanomolar for association constants\n",
    "        if typ.upper() == 'KA' and val and unit.strip() in ['M^-1','M-1','1/M']:\n",
    "            try:\n",
    "                kd_m  = 1.0 / float(val)\n",
    "                kd_nm = round(kd_m * 1e9, 2)\n",
    "            except Exception:\n",
    "                kd_nm = ''\n",
    "        rows.append({\n",
    "            'Target (ChEMBL)': tid,\n",
    "            'Activity':        typ,\n",
    "            'Value':           val,\n",
    "            'Units':           unit,\n",
    "            'Kd (nM)':         kd_nm\n",
    "        })\n",
    "    df = pd.DataFrame(rows)\n",
    "    # Replace ChEMBL IDs with human-readable names\n",
    "    unique_tids = set(df['Target (ChEMBL)'])\n",
    "    name_map = fetch_target_names(unique_tids)\n",
    "    df['Target (ChEMBL)'] = df['Target (ChEMBL)'].map(name_map)\n",
    "    # Keep only non-empty bioactivity entries\n",
    "    df = df[['Target (ChEMBL)', 'Activity', 'Value', 'Units', 'Kd (nM)']]\n",
    "    df.dropna(how='all', subset=['Value'], inplace=True)\n",
    "    df.reset_index(drop=True, inplace=True)\n",
    "    return df"
   ]
  },
  {
   "cell_type": "markdown",
   "id": "519c84bd",
   "metadata": {},
   "source": [
    "---"
   ]
  },
  {
   "cell_type": "code",
   "execution_count": 5,
   "id": "a33732ff",
   "metadata": {
    "execution": {
     "iopub.execute_input": "2025-08-17T11:54:36.674139Z",
     "iopub.status.busy": "2025-08-17T11:54:36.673762Z",
     "iopub.status.idle": "2025-08-17T11:54:36.703911Z",
     "shell.execute_reply": "2025-08-17T11:54:36.702964Z",
     "shell.execute_reply.started": "2025-08-17T11:54:36.674085Z"
    },
    "tags": []
   },
   "outputs": [
    {
     "data": {
      "application/vnd.jupyter.widget-view+json": {
       "model_id": "c237f5f398134882b41bff792b9ad29d",
       "version_major": 2,
       "version_minor": 0
      },
      "text/plain": [
       "VBox(children=(Text(value='scopolamine', description='Compound:', layout=Layout(width='400px'), style=TextStyl…"
      ]
     },
     "metadata": {},
     "output_type": "display_data"
    }
   ],
   "source": [
    "# --- Interactive widget mode ---\n",
    "def interactive_mode():\n",
    "    text = widgets.Text(\n",
    "        value='scopolamine',\n",
    "        description='Compound:',\n",
    "        style={'description_width': 'initial'},\n",
    "        layout=widgets.Layout(width='400px')\n",
    "    )\n",
    "    button = widgets.Button(description=\"Search\")\n",
    "    filter_box = widgets.SelectMultiple(\n",
    "        options=['IC50', 'Ki', 'KA', 'Kd'],\n",
    "        value=['IC50', 'Ki'],\n",
    "        description='Activity filter',\n",
    "        layout=widgets.Layout(width='200px')\n",
    "    )\n",
    "    export_button_csv = widgets.Button(description=\"Export CSV\")\n",
    "    export_button_xlsx = widgets.Button(description=\"Export Excel\")\n",
    "    output = widgets.Output()\n",
    "\n",
    "    def on_click(b):\n",
    "        with output:\n",
    "            clear_output()\n",
    "            try:\n",
    "                compound = text.value\n",
    "                chembl_id = get_chembl_id(compound)\n",
    "                acts = fetch_activities(chembl_id)\n",
    "                df = build_activity_df(acts)\n",
    "                selected = list(filter_box.value)\n",
    "                if selected:\n",
    "                    df = df[df['Activity'].isin(selected)]\n",
    "                display(Markdown(f\"\"\"\n",
    "                ### Results for **{compound}**  \n",
    "                Data retrieved from [ChEMBL](https://www.ebi.ac.uk/chembl/).  \n",
    "                Values aggregated per target/activity.\n",
    "                \"\"\"))\n",
    "                show(df, classes=\"display compact cell-border\", maxBytes=0)\n",
    "                export_button_csv.df = df\n",
    "                export_button_xlsx.df = df\n",
    "            except Exception as e:\n",
    "                print(f\"❌ Error: {e}\")\n",
    "\n",
    "    def on_export_csv(b):\n",
    "        if hasattr(b, 'df'):\n",
    "            b.df.to_csv('results.csv', index=False)\n",
    "            display(Markdown(\"✅ Exported [results.csv](results.csv)\"))\n",
    "\n",
    "    def on_export_xlsx(b):\n",
    "        if hasattr(b, 'df'):\n",
    "            b.df.to_excel('results.xlsx', index=False)\n",
    "            display(Markdown(\"✅ Exported [results.xlsx](results.xlsx)\"))\n",
    "\n",
    "    button.on_click(on_click)\n",
    "    export_button_csv.on_click(on_export_csv)\n",
    "    export_button_xlsx.on_click(on_export_xlsx)\n",
    "\n",
    "    display(widgets.VBox([\n",
    "        text,\n",
    "        button,\n",
    "        filter_box,\n",
    "        widgets.HBox([export_button_csv, export_button_xlsx]),\n",
    "        output\n",
    "    ]))\n",
    "\n",
    "interactive_mode()"
   ]
  },
  {
   "cell_type": "markdown",
   "id": "2661fb8b",
   "metadata": {},
   "source": [
    "---"
   ]
  },
  {
   "cell_type": "markdown",
   "id": "5f1e76a1",
   "metadata": {},
   "source": [
    "---"
   ]
  },
  {
   "cell_type": "markdown",
   "id": "0259f251",
   "metadata": {},
   "source": [
    "---\n",
    "\n",
    "\n"
   ]
  }
 ],
 "metadata": {
  "jupytext": {
   "cell_metadata_filter": "-all",
   "main_language": "python",
   "notebook_metadata_filter": "-all"
  },
  "kernelspec": {
   "display_name": "Python 3 (ipykernel)",
   "language": "python",
   "name": "python3"
  },
  "language_info": {
   "codemirror_mode": {
    "name": "ipython",
    "version": 3
   },
   "file_extension": ".py",
   "mimetype": "text/x-python",
   "name": "python",
   "nbconvert_exporter": "python",
   "pygments_lexer": "ipython3",
   "version": "3.13.7"
  }
 },
 "nbformat": 4,
 "nbformat_minor": 5
}
