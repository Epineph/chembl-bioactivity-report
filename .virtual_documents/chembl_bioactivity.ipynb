import pandas as pd
from chembl_webresource_client.new_client import new_client
from IPython.display import display, clear_output, Markdown, FileLink
import ipywidgets as widgets
from itables import init_notebook_mode, show

# Initialize interactive tables
init_notebook_mode(all_interactive=True)

# --- Core helper functions ---
def get_chembl_id(compound: str) -> str:
    """Resolve compound name to ChEMBL ID."""
    mol_client = new_client.molecule
    res = mol_client.filter(pref_name__iexact=compound)
    if not res:
        raise ValueError(f"No ChEMBL entry for '{compound}'")
    return res[0]['molecule_chembl_id']

def fetch_activities(chembl_id: str) -> list[dict]:
    """Fetch all Homo sapiens bioactivities for the given ChEMBL ID."""
    act_client = new_client.activity
    acts = act_client.filter(
        molecule_chembl_id=chembl_id,
        target_organism__iexact='Homo sapiens'
    ).only([
        'target_chembl_id',
        'standard_type',
        'standard_value',
        'standard_units'
    ])
    return list(acts)

def fetch_target_names(target_ids: set[str]) -> dict[str, str]:
    """Map each ChEMBL target ID to its preferred name."""
    tgt_client = new_client.target
    names = {}
    for tid in target_ids:
        rec = tgt_client.filter(target_chembl_id=tid).only(['pref_name'])
        names[tid] = rec[0]['pref_name'] if rec else tid
    return names

def build_activity_df(acts: list[dict]) -> pd.DataFrame:
    """Build a tidy DataFrame and compute Kd (nM) for KA entries."""
    rows = []
    for a in acts:
        tid   = a.get('target_chembl_id') or 'Unknown'
        typ   = a.get('standard_type')    or ''
        val   = a.get('standard_value')   or ''
        unit  = a.get('standard_units')   or ''
        kd_nm = ''
        if typ.upper() == 'KA' and val and unit.strip() in ['M^-1','M-1','1/M']:
            try:
                kd_m  = 1.0 / float(val)
                kd_nm = round(kd_m * 1e9, 2)
            except Exception:
                kd_nm = ''
        rows.append({
            'Target': tid,
            'Activity': typ,
            'Value': val,
            'Units': unit,
            'Kd (nM)': kd_nm
        })
    df = pd.DataFrame(rows)
    # Replace ChEMBL IDs with names
    unique_tids = set(df['Target'])
    name_map = fetch_target_names(unique_tids)
    df['Target'] = df['Target'].map(name_map)
    df.dropna(how='all', subset=['Value'], inplace=True)
    df.reset_index(drop=True, inplace=True)
    return df

# --- Interactive widget mode ---
def interactive_mode():
    text = widgets.Text(
        value='scopolamine',
        description='Compound:',
        style={'description_width': 'initial'},
        layout=widgets.Layout(width='400px')
    )
    button = widgets.Button(description="Search")
    filter_box = widgets.SelectMultiple(
        options=['IC50', 'Ki', 'KA', 'Kd'],
        value=['IC50', 'Ki'],
        description='Activity filter',
        layout=widgets.Layout(width='200px')
    )
    export_button_csv = widgets.Button(description="Export CSV")
    export_button_xlsx = widgets.Button(description="Export Excel")
    output = widgets.Output()

    def on_click(b):
        with output:
            clear_output()
            try:
                compound = text.value
                chembl_id = get_chembl_id(compound)
                acts = fetch_activities(chembl_id)
                df = build_activity_df(acts)
                selected = list(filter_box.value)
                if selected:
                    df = df[df['Activity'].isin(selected)]
                display(Markdown(f"""
                ### Results for **{compound}**  
                Data retrieved from [ChEMBL](https://www.ebi.ac.uk/chembl/).  
                """))
                show(df, classes="display compact cell-border", maxBytes=0)
                export_button_csv.df = df
                export_button_xlsx.df = df
            except Exception as e:
                print(f"❌ Error: {e}")

    def on_export_csv(b):
        if hasattr(b, 'df'):
            b.df.to_csv('results.csv', index=False)
            display(Markdown("✅ Exported"))
            display(FileLink('results.csv'))

    def on_export_xlsx(b):
        if hasattr(b, 'df'):
            b.df.to_excel('results.xlsx', index=False)
            display(Markdown("✅ Exported"))
            display(FileLink('results.xlsx'))

    button.on_click(on_click)
    export_button_csv.on_click(on_export_csv)
    export_button_xlsx.on_click(on_export_xlsx)

    display(widgets.VBox([
        text,
        button,
        filter_box,
        widgets.HBox([export_button_csv, export_button_xlsx]),
        output
    ]))

interactive_mode()

